{
 "cells": [
  {
   "cell_type": "code",
   "execution_count": 51,
   "id": "79b648d2-4ff7-4f32-9622-8e0fad94ee30",
   "metadata": {
    "execution": {
     "iopub.execute_input": "2023-11-21T23:47:29.705761Z",
     "iopub.status.busy": "2023-11-21T23:47:29.705154Z",
     "iopub.status.idle": "2023-11-21T23:47:29.719141Z",
     "shell.execute_reply": "2023-11-21T23:47:29.718376Z",
     "shell.execute_reply.started": "2023-11-21T23:47:29.705712Z"
    }
   },
   "outputs": [],
   "source": [
    "%matplotlib inline\n",
    "%config InlineBackend.figure_format='retina'"
   ]
  },
  {
   "cell_type": "code",
   "execution_count": 52,
   "id": "daff0d12-4c06-4764-b43b-8468964d1506",
   "metadata": {
    "execution": {
     "iopub.execute_input": "2023-11-21T23:47:30.378874Z",
     "iopub.status.busy": "2023-11-21T23:47:30.378308Z",
     "iopub.status.idle": "2023-11-21T23:47:30.386816Z",
     "shell.execute_reply": "2023-11-21T23:47:30.386141Z",
     "shell.execute_reply.started": "2023-11-21T23:47:30.378826Z"
    }
   },
   "outputs": [],
   "source": [
    "import gc\n",
    "import time\n",
    "from copy import deepcopy\n",
    "from pathlib import Path\n",
    "from pprint import pprint\n",
    "\n",
    "import h5py\n",
    "import matplotlib.pyplot as plt\n",
    "import numpy as np\n",
    "import pandas as pd\n",
    "import jax\n",
    "import jax.numpy as jnp\n",
    "import torch\n",
    "from ott.geometry import pointcloud\n",
    "from ott.solvers import linear\n",
    "\n",
    "from fm4ar.nested_sampling.posteriors import load_posterior"
   ]
  },
  {
   "cell_type": "code",
   "execution_count": 53,
   "id": "97c62e9f-6237-4b15-a4b9-832aaf23b1a2",
   "metadata": {
    "execution": {
     "iopub.execute_input": "2023-11-21T23:47:30.897324Z",
     "iopub.status.busy": "2023-11-21T23:47:30.896345Z",
     "iopub.status.idle": "2023-11-21T23:47:30.910804Z",
     "shell.execute_reply": "2023-11-21T23:47:30.910083Z",
     "shell.execute_reply.started": "2023-11-21T23:47:30.897273Z"
    }
   },
   "outputs": [],
   "source": [
    "def normalize_weights(weights: np.ndarray) -> np.ndarray:\n",
    "    \"\"\"\n",
    "    Normalize weights such that sum(weights) == len(weights).\n",
    "    \"\"\"\n",
    "\n",
    "    return weights * len(weights) / np.sum(weights)\n",
    "\n",
    "\n",
    "def get_effective_sample_size(weights: np.ndarray) -> float:\n",
    "    \"\"\"\n",
    "    Compute the effective sample size.\n",
    "    \"\"\"\n",
    "\n",
    "    weights = normalize_weights(weights)\n",
    "    return np.sum(weights) ** 2 / np.sum(weights ** 2)\n",
    "\n",
    "\n",
    "def get_subsample_idx(a: np.ndarray, target_size: int = 50_000) -> int:\n",
    "    \"\"\"\n",
    "    Find the smallest index `n` such that \n",
    "    `get_effective_sample_size(a[:n]) >= target_size`.\n",
    "    \"\"\"\n",
    "\n",
    "    low, high = 0, len(a)\n",
    "    n = high\n",
    "\n",
    "    while low <= high:\n",
    "        mid = (low + high) // 2\n",
    "        if get_effective_sample_size(a[:mid]) >= target_size:\n",
    "            n = mid\n",
    "            high = mid - 1\n",
    "        else:\n",
    "            low = mid + 1\n",
    "\n",
    "    return n\n",
    "\n",
    "\n",
    "def get_random_sample(\n",
    "    samples: np.ndarray, \n",
    "    weights: np.ndarray | None, \n",
    "    n: int = 1000,\n",
    ") -> jnp.ndarray:\n",
    "\n",
    "    if weights is not None:\n",
    "        weights = deepcopy(weights)\n",
    "    else:\n",
    "        weights = np.ones(len(samples))\n",
    "\n",
    "    weights /= np.sum(weights)\n",
    "    \n",
    "    idx = np.random.choice(a=len(weights), size=n, replace=True, p=weights)\n",
    "\n",
    "    return jnp.array(samples[idx])"
   ]
  },
  {
   "cell_type": "markdown",
   "id": "92734195-703b-46f2-b3a7-2e5acdfb05ba",
   "metadata": {},
   "source": [
    "# Load posteriors"
   ]
  },
  {
   "cell_type": "code",
   "execution_count": 54,
   "id": "c4320ab7-9428-44bf-92c0-9b6e216aaed4",
   "metadata": {
    "execution": {
     "iopub.execute_input": "2023-11-21T23:47:32.313971Z",
     "iopub.status.busy": "2023-11-21T23:47:32.312929Z",
     "iopub.status.idle": "2023-11-21T23:47:32.319722Z",
     "shell.execute_reply": "2023-11-21T23:47:32.318554Z",
     "shell.execute_reply.started": "2023-11-21T23:47:32.313922Z"
    }
   },
   "outputs": [],
   "source": [
    "workshop_dir = Path(\"/home/tgebhard/projects/fm4ar/experiments/aaai-workshop\")\n",
    "target_size = 50_000\n",
    "results = {}"
   ]
  },
  {
   "cell_type": "code",
   "execution_count": 55,
   "id": "b773c735-cee2-4ba1-b265-a2cb6e06ef46",
   "metadata": {
    "execution": {
     "iopub.execute_input": "2023-11-21T23:47:33.082071Z",
     "iopub.status.busy": "2023-11-21T23:47:33.081042Z",
     "iopub.status.idle": "2023-11-21T23:47:40.842242Z",
     "shell.execute_reply": "2023-11-21T23:47:40.841318Z",
     "shell.execute_reply.started": "2023-11-21T23:47:33.082022Z"
    }
   },
   "outputs": [
    {
     "name": "stdout",
     "output_type": "stream",
     "text": [
      "Sampling efficiency:   6.22%\n",
      "Effective sample size: 616,816\n"
     ]
    }
   ],
   "source": [
    "# Load results from unconditional flow as the reference\n",
    "file_path = workshop_dir / \"unconditional-flow/importance_sampling/importance_sampling_results_minimized.hdf\"\n",
    "with h5py.File(file_path, \"r\") as f:\n",
    "    samples = np.array(f[\"theta\"])\n",
    "    weights = np.array(f[\"weights\"])\n",
    "\n",
    "# Drop the maximum weight (crazy outlier)\n",
    "idx = np.argmax(weights)\n",
    "mask = np.ones_like(weights).astype(bool)\n",
    "mask[idx] = False\n",
    "samples = samples[mask]\n",
    "weights = weights[mask]\n",
    "\n",
    "weights = normalize_weights(weights)\n",
    "\n",
    "# Get effective sample size\n",
    "print(f\"Sampling efficiency:   {100 * get_effective_sample_size(weights) / len(weights):,.2f}%\")\n",
    "print(f\"Effective sample size: {get_effective_sample_size(weights):,.0f}\")\n",
    "\n",
    "# Store in dict\n",
    "results[\"reference\"] = dict(\n",
    "    label=\"Reference\",\n",
    "    samples=samples,\n",
    "    weights=weights,\n",
    ")"
   ]
  },
  {
   "cell_type": "code",
   "execution_count": 56,
   "id": "240b7b57-a054-43e0-9701-34346245e967",
   "metadata": {
    "execution": {
     "iopub.execute_input": "2023-11-21T23:47:40.843138Z",
     "iopub.status.busy": "2023-11-21T23:47:40.843011Z",
     "iopub.status.idle": "2023-11-21T23:47:41.691286Z",
     "shell.execute_reply": "2023-11-21T23:47:41.690349Z",
     "shell.execute_reply.started": "2023-11-21T23:47:40.843127Z"
    }
   },
   "outputs": [
    {
     "name": "stdout",
     "output_type": "stream",
     "text": [
      "Sampling efficiency:   2.13%\n",
      "Effective sample size: 50,000.0\n"
     ]
    }
   ],
   "source": [
    "# Load nautilus posterior\n",
    "experiment_dir = Path(\"/home/tgebhard/projects/fm4ar/scripts/nested_sampling/results/nautilus/15_high-res\")\n",
    "samples, weights = load_posterior(experiment_dir=experiment_dir)\n",
    "\n",
    "# Compute sampling effiency before limiting the number of effective samples\n",
    "print(f\"Sampling efficiency:   {100 * get_effective_sample_size(weights) / len(weights):,.2f}%\")\n",
    "\n",
    "# Limit to target_size\n",
    "n = get_subsample_idx(weights, target_size)\n",
    "samples = samples[:n]\n",
    "weights = normalize_weights(weights[:n])\n",
    "\n",
    "# Get effective sample size\n",
    "print(f\"Effective sample size: {get_effective_sample_size(weights):,.1f}\")\n",
    "\n",
    "# Store in dict\n",
    "results[\"nautilus\"] = dict(\n",
    "    label=\"nautilus\",\n",
    "    samples=samples,\n",
    "    weights=weights,\n",
    ")"
   ]
  },
  {
   "cell_type": "code",
   "execution_count": 57,
   "id": "cf2ae833-2e16-418d-87d3-0206c94e7743",
   "metadata": {
    "execution": {
     "iopub.execute_input": "2023-11-21T23:47:41.692474Z",
     "iopub.status.busy": "2023-11-21T23:47:41.692265Z",
     "iopub.status.idle": "2023-11-21T23:47:42.730181Z",
     "shell.execute_reply": "2023-11-21T23:47:42.729280Z",
     "shell.execute_reply.started": "2023-11-21T23:47:41.692447Z"
    }
   },
   "outputs": [
    {
     "name": "stdout",
     "output_type": "stream",
     "text": [
      "fmpe\n",
      "Sampling efficiency:   10.69%\n",
      "Subset index:          384,691\n",
      "Effective sample size: 50,000.4\n",
      "Sampling efficiency:   13.00%\n",
      "\n",
      "npe\n",
      "Sampling efficiency:   2.66%\n",
      "Subset index:          1,999,354\n",
      "Effective sample size: 50,000.7\n",
      "Sampling efficiency:   2.50%\n",
      "\n"
     ]
    }
   ],
   "source": [
    "for name in (\"fmpe\", \"npe\"):\n",
    "\n",
    "    print(name)\n",
    "\n",
    "    # Construct label\n",
    "    label = name.upper()\n",
    "\n",
    "    # Load results from HDF file\n",
    "    file_path = workshop_dir / name / \"importance_sampling\" / \"importance_sampling_results.hdf\"\n",
    "    with h5py.File(file_path, \"r\") as f:\n",
    "        samples = np.array(f[\"theta\"])\n",
    "        weights = np.array(f[\"weights\"])\n",
    "\n",
    "    # Store the first `target_size` samples as the \"raw\" results\n",
    "    results[f\"{name}_raw\"] = dict(\n",
    "        label=label,\n",
    "        samples=samples[:target_size],\n",
    "        weights=np.ones(target_size),\n",
    "    )\n",
    "    \n",
    "    # Compute sampling effiency before limiting the number of effective samples\n",
    "    print(f\"Sampling efficiency:   {100 * get_effective_sample_size(weights) / len(weights):,.2f}%\")\n",
    "    \n",
    "    # Limit to `target_size` effective samples\n",
    "    n = get_subsample_idx(weights, target_size)\n",
    "    samples = samples[:n]\n",
    "    weights = normalize_weights(weights[:n])\n",
    "    print(f\"Subset index:          {n:,d}\")\n",
    "    \n",
    "    # Get effective sample size\n",
    "    print(f\"Effective sample size: {get_effective_sample_size(weights):,.1f}\")\n",
    "\n",
    "    # Compute sampling effiency after limiting the number of effective samples\n",
    "    print(f\"Sampling efficiency:   {100 * get_effective_sample_size(weights) / len(weights):,.2f}%\")\n",
    "    \n",
    "    # Store in dict\n",
    "    results[f\"{name}_is\"] = dict(\n",
    "        label=f\"{label}+IS\",\n",
    "        samples=samples,\n",
    "        weights=weights,\n",
    "    )\n",
    "    print()"
   ]
  },
  {
   "cell_type": "code",
   "execution_count": 58,
   "id": "981c223e-cba0-4730-a9b7-2861853858d7",
   "metadata": {
    "execution": {
     "iopub.execute_input": "2023-11-21T23:47:42.731541Z",
     "iopub.status.busy": "2023-11-21T23:47:42.731396Z",
     "iopub.status.idle": "2023-11-21T23:47:42.736263Z",
     "shell.execute_reply": "2023-11-21T23:47:42.735594Z",
     "shell.execute_reply.started": "2023-11-21T23:47:42.731529Z"
    }
   },
   "outputs": [
    {
     "data": {
      "text/plain": [
       "dict_keys(['reference', 'nautilus', 'fmpe_raw', 'fmpe_is', 'npe_raw', 'npe_is'])"
      ]
     },
     "execution_count": 58,
     "metadata": {},
     "output_type": "execute_result"
    }
   ],
   "source": [
    "results.keys()"
   ]
  },
  {
   "cell_type": "markdown",
   "id": "5a7ec002-e9ba-4628-bde3-e85ffd2a5ce6",
   "metadata": {},
   "source": [
    "# Compute optimal transport distance between two samples"
   ]
  },
  {
   "cell_type": "code",
   "execution_count": 59,
   "id": "1801182d-d497-4031-ab19-ef8fca714c8d",
   "metadata": {
    "execution": {
     "iopub.execute_input": "2023-11-21T23:47:42.736794Z",
     "iopub.status.busy": "2023-11-21T23:47:42.736684Z",
     "iopub.status.idle": "2023-11-21T23:47:43.041155Z",
     "shell.execute_reply": "2023-11-21T23:47:43.040386Z",
     "shell.execute_reply.started": "2023-11-21T23:47:42.736783Z"
    }
   },
   "outputs": [],
   "source": [
    "gc.collect()\n",
    "torch.cuda.empty_cache()"
   ]
  },
  {
   "cell_type": "code",
   "execution_count": 60,
   "id": "9b996921-3bf1-4c07-a48a-69942d7343a3",
   "metadata": {
    "execution": {
     "iopub.execute_input": "2023-11-21T23:47:43.041767Z",
     "iopub.status.busy": "2023-11-21T23:47:43.041651Z",
     "iopub.status.idle": "2023-11-21T23:51:52.518577Z",
     "shell.execute_reply": "2023-11-21T23:51:52.516823Z",
     "shell.execute_reply.started": "2023-11-21T23:47:43.041757Z"
    }
   },
   "outputs": [
    {
     "name": "stdout",
     "output_type": "stream",
     "text": [
      "reference.................................................................................................... Done! (53.05 seconds)\n",
      "nautilus.................................................................................................... Done! (41.32 seconds)\n",
      "npe_raw.................................................................................................... Done! (42.82 seconds)\n",
      "npe_is.................................................................................................... Done! (36.68 seconds)\n",
      "fmpe_raw.................................................................................................... Done! (41.53 seconds)\n",
      "fmpe_is.................................................................................................... Done! (34.00 seconds)\n"
     ]
    }
   ],
   "source": [
    "# Fix random seed\n",
    "np.random.seed(42)\n",
    "torch.manual_seed(42)\n",
    "\n",
    "d = 16\n",
    "n_x = 10_000\n",
    "n_y = 10_000\n",
    "n_rounds = 100\n",
    "\n",
    "for (key, no_weights) in [\n",
    "    (\"reference\", False),\n",
    "    (\"nautilus\", False),\n",
    "    (\"npe_raw\", True),\n",
    "    (\"npe_is\", False),\n",
    "    (\"fmpe_raw\", True),\n",
    "    (\"fmpe_is\", False),\n",
    "]:\n",
    "\n",
    "    start_time = time.time()\n",
    "    print(key, end=\"\")\n",
    "\n",
    "    results[key][\"upper_bounds\"] = []\n",
    "    \n",
    "    for _ in range(n_rounds):\n",
    "\n",
    "        print(\".\", end=\"\")\n",
    "    \n",
    "\n",
    "        # Get sample from reference\n",
    "        x = get_random_sample(\n",
    "            samples=results[\"reference\"][\"samples\"], \n",
    "            weights=results[\"reference\"][\"weights\"], \n",
    "            n=n_x,\n",
    "        )\n",
    "        \n",
    "        # Get sample from estimate\n",
    "        y = get_random_sample(\n",
    "            samples=results[key][\"samples\"], \n",
    "            weights=(None if no_weights else results[key][\"weights\"]), \n",
    "            n=n_y,\n",
    "        )\n",
    "    \n",
    "        # Solve optimal transport\n",
    "        geom = pointcloud.PointCloud(x, y, cost_fn=None)\n",
    "        solve_fn = jax.jit(linear.solve)\n",
    "        ot = solve_fn(geom)\n",
    "    \n",
    "        # Compute bounds on OT cost\n",
    "        # lower = float(ot.dual_cost)\n",
    "        upper = float(ot.primal_cost)\n",
    "\n",
    "        # Store results\n",
    "        results[key][\"upper_bounds\"].append(upper)\n",
    "\n",
    "        del x\n",
    "        del y\n",
    "        del geom\n",
    "        del ot\n",
    "    \n",
    "    print(f\" Done! ({time.time() - start_time:.2f} seconds)\")"
   ]
  },
  {
   "cell_type": "code",
   "execution_count": 61,
   "id": "5e772d3c-bbe6-44ca-a774-fa9cb7798391",
   "metadata": {
    "execution": {
     "iopub.execute_input": "2023-11-21T23:51:52.521222Z",
     "iopub.status.busy": "2023-11-21T23:51:52.520887Z",
     "iopub.status.idle": "2023-11-21T23:51:52.531318Z",
     "shell.execute_reply": "2023-11-21T23:51:52.530448Z",
     "shell.execute_reply.started": "2023-11-21T23:51:52.521191Z"
    }
   },
   "outputs": [
    {
     "name": "stdout",
     "output_type": "stream",
     "text": [
      "Reference : 234.07+-2.79\n",
      "nautilus  : 240.29+-6.02\n",
      "FMPE      : 420.43+-51.08\n",
      "FMPE+IS   : 233.50+-3.35\n",
      "NPE       : 940.80+-176.67\n",
      "NPE+IS    : 235.00+-3.57\n"
     ]
    }
   ],
   "source": [
    "for key in results.keys():\n",
    "    label  = results[key][\"label\"]\n",
    "    mean = np.mean(results[key][\"upper_bounds\"])\n",
    "    std = np.std(results[key][\"upper_bounds\"])\n",
    "    print(f'{label:<10}: {mean:.2f}+-{std:.2f}')"
   ]
  },
  {
   "cell_type": "code",
   "execution_count": 63,
   "id": "300ff3c7-529a-4ac0-8be3-5011f86e6074",
   "metadata": {
    "execution": {
     "iopub.execute_input": "2023-11-21T23:52:17.963537Z",
     "iopub.status.busy": "2023-11-21T23:52:17.961998Z",
     "iopub.status.idle": "2023-11-21T23:52:18.342637Z",
     "shell.execute_reply": "2023-11-21T23:52:18.341834Z",
     "shell.execute_reply.started": "2023-11-21T23:52:17.963484Z"
    }
   },
   "outputs": [
    {
     "data": {
      "image/png": "[encoded data removed]",
      "text/plain": [
       "<Figure size 659.291x304.961 with 1 Axes>"
      ]
     },
     "metadata": {
      "image/png": {
       "height": 331,
       "width": 716
      }
     },
     "output_type": "display_data"
    }
   ],
   "source": [
    "pad_inches = 0.05\n",
    "fig, ax = plt.subplots(figsize=(17.0 / 2.54 - 2 * pad_inches, 8 / 2.54 - 2 * pad_inches))\n",
    "fig.tight_layout(pad=0)\n",
    "\n",
    "all_data = [results[key][\"upper_bounds\"] for key in results.keys()][::-1]\n",
    "labels = [results[key][\"label\"] for key in results.keys()][::-1]\n",
    "\n",
    "bplot = ax.boxplot(\n",
    "    all_data,\n",
    "    vert=False,\n",
    "    patch_artist=True,\n",
    "    labels=labels,\n",
    ")\n",
    "\n",
    "for patch in bplot['boxes']:\n",
    "    patch.set_facecolor(\"white\")\n",
    "\n",
    "for i, key in enumerate(results.keys()):\n",
    "    median = np.median(results[key][\"upper_bounds\"])\n",
    "    std = np.std(results[key][\"upper_bounds\"])\n",
    "    label = rf'{median:.1f}$\\pm${std:.1f}'\n",
    "    ax.text(x=median, y=6 - i + 0.3, s=label, va=\"bottom\", ha=\"center\", fontsize=6)\n",
    "\n",
    "ax.tick_params(axis='x', labelsize=8)\n",
    "ax.tick_params(axis='y', labelsize=8)\n",
    "\n",
    "ax.yaxis.grid(which=\"both\", color=\"black\", ls=\"--\", alpha=0.1)\n",
    "\n",
    "ax.set_xlabel('Upper limit on the linear optimal transport distance to the reference', fontsize=8)\n",
    "ax.set_xlim(200, 1000)\n",
    "ax.set_ylim(0, 7)\n",
    "\n",
    "plt.savefig(\"ot-distances.pdf\", dpi=300, bbox_inches=\"tight\", pad_inches=0.01)\n",
    "plt.show()"
   ]
  },
  {
   "cell_type": "code",
   "execution_count": null,
   "id": "a6c08549-c5f6-4e44-a891-cbb2089e6252",
   "metadata": {},
   "outputs": [],
   "source": []
  }
 ],
 "metadata": {
  "kernelspec": {
   "display_name": "Python 3 (ipykernel)",
   "language": "python",
   "name": "python3"
  },
  "language_info": {
   "codemirror_mode": {
    "name": "ipython",
    "version": 3
   },
   "file_extension": ".py",
   "mimetype": "text/x-python",
   "name": "python",
   "nbconvert_exporter": "python",
   "pygments_lexer": "ipython3",
   "version": "3.10.6"
  }
 },
 "nbformat": 4,
 "nbformat_minor": 5
}
